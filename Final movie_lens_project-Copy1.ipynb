{
 "cells": [
  {
   "cell_type": "code",
   "execution_count": 1,
   "metadata": {},
   "outputs": [],
   "source": [
    "#importing numpy and pandas library\n",
    "import pandas as pd\n",
    "import numpy as np"
   ]
  },
  {
   "cell_type": "code",
   "execution_count": 2,
   "metadata": {},
   "outputs": [
    {
     "name": "stderr",
     "output_type": "stream",
     "text": [
      "<ipython-input-2-93e3dc45134b>:2: ParserWarning: Falling back to the 'python' engine because the 'c' engine does not support regex separators (separators > 1 char and different from '\\s+' are interpreted as regex); you can avoid this warning by specifying engine='python'.\n",
      "  A=pd.read_csv(r\"C:\\Users\\saksham saxena\\Desktop\\Databases\\movies.dat\",sep=('::'),names=['MovieId','Title','Genre'])\n"
     ]
    }
   ],
   "source": [
    "#Importing the Movies dataset using pandas\n",
    "A=pd.read_csv(r\"C:\\Users\\saksham saxena\\Desktop\\Databases\\movies.dat\",sep=('::'),names=['MovieId','Title','Genre'])"
   ]
  },
  {
   "cell_type": "code",
   "execution_count": 3,
   "metadata": {},
   "outputs": [
    {
     "name": "stderr",
     "output_type": "stream",
     "text": [
      "<ipython-input-3-84b4c9eaf4c2>:2: ParserWarning: Falling back to the 'python' engine because the 'c' engine does not support regex separators (separators > 1 char and different from '\\s+' are interpreted as regex); you can avoid this warning by specifying engine='python'.\n",
      "  B=pd.read_csv(r'C:\\Users\\saksham saxena\\Desktop\\Databases\\users.dat',sep=('::'),names=['UserId','Gender','Age','Occupation','Zipcode'])\n"
     ]
    }
   ],
   "source": [
    "#Importing the Users dataset using pandas\n",
    "B=pd.read_csv(r'C:\\Users\\saksham saxena\\Desktop\\Databases\\users.dat',sep=('::'),names=['UserId','Gender','Age','Occupation','Zipcode'])"
   ]
  },
  {
   "cell_type": "code",
   "execution_count": 4,
   "metadata": {},
   "outputs": [
    {
     "name": "stderr",
     "output_type": "stream",
     "text": [
      "<ipython-input-4-b54f0d421a9d>:2: ParserWarning: Falling back to the 'python' engine because the 'c' engine does not support regex separators (separators > 1 char and different from '\\s+' are interpreted as regex); you can avoid this warning by specifying engine='python'.\n",
      "  C=pd.read_csv(r'C:\\Users\\saksham saxena\\Desktop\\Databases\\ratings.dat',sep=('::'),names=['UserId','MovieId','Ratings','Timestamp'])\n"
     ]
    }
   ],
   "source": [
    "#Importing the Ratings dataset using pandas\n",
    "C=pd.read_csv(r'C:\\Users\\saksham saxena\\Desktop\\Databases\\ratings.dat',sep=('::'),names=['UserId','MovieId','Ratings','Timestamp'])"
   ]
  },
  {
   "cell_type": "code",
   "execution_count": 5,
   "metadata": {},
   "outputs": [],
   "source": [
    "#Merging of the 'Ratings' and 'Movies' dataset using the key 'MovieId' and naming it 'Y'\n",
    "Y=pd.merge(A,C,on='MovieId')"
   ]
  },
  {
   "cell_type": "code",
   "execution_count": 6,
   "metadata": {},
   "outputs": [
    {
     "data": {
      "text/html": [
       "<div>\n",
       "<style scoped>\n",
       "    .dataframe tbody tr th:only-of-type {\n",
       "        vertical-align: middle;\n",
       "    }\n",
       "\n",
       "    .dataframe tbody tr th {\n",
       "        vertical-align: top;\n",
       "    }\n",
       "\n",
       "    .dataframe thead th {\n",
       "        text-align: right;\n",
       "    }\n",
       "</style>\n",
       "<table border=\"1\" class=\"dataframe\">\n",
       "  <thead>\n",
       "    <tr style=\"text-align: right;\">\n",
       "      <th></th>\n",
       "      <th>MovieId</th>\n",
       "      <th>Title</th>\n",
       "      <th>Genre</th>\n",
       "      <th>UserId</th>\n",
       "      <th>Ratings</th>\n",
       "      <th>Timestamp</th>\n",
       "    </tr>\n",
       "  </thead>\n",
       "  <tbody>\n",
       "    <tr>\n",
       "      <th>0</th>\n",
       "      <td>1</td>\n",
       "      <td>Toy Story (1995)</td>\n",
       "      <td>Animation|Children's|Comedy</td>\n",
       "      <td>1</td>\n",
       "      <td>5</td>\n",
       "      <td>978824268</td>\n",
       "    </tr>\n",
       "    <tr>\n",
       "      <th>1</th>\n",
       "      <td>1</td>\n",
       "      <td>Toy Story (1995)</td>\n",
       "      <td>Animation|Children's|Comedy</td>\n",
       "      <td>6</td>\n",
       "      <td>4</td>\n",
       "      <td>978237008</td>\n",
       "    </tr>\n",
       "    <tr>\n",
       "      <th>2</th>\n",
       "      <td>1</td>\n",
       "      <td>Toy Story (1995)</td>\n",
       "      <td>Animation|Children's|Comedy</td>\n",
       "      <td>8</td>\n",
       "      <td>4</td>\n",
       "      <td>978233496</td>\n",
       "    </tr>\n",
       "    <tr>\n",
       "      <th>3</th>\n",
       "      <td>1</td>\n",
       "      <td>Toy Story (1995)</td>\n",
       "      <td>Animation|Children's|Comedy</td>\n",
       "      <td>9</td>\n",
       "      <td>5</td>\n",
       "      <td>978225952</td>\n",
       "    </tr>\n",
       "    <tr>\n",
       "      <th>4</th>\n",
       "      <td>1</td>\n",
       "      <td>Toy Story (1995)</td>\n",
       "      <td>Animation|Children's|Comedy</td>\n",
       "      <td>10</td>\n",
       "      <td>5</td>\n",
       "      <td>978226474</td>\n",
       "    </tr>\n",
       "    <tr>\n",
       "      <th>...</th>\n",
       "      <td>...</td>\n",
       "      <td>...</td>\n",
       "      <td>...</td>\n",
       "      <td>...</td>\n",
       "      <td>...</td>\n",
       "      <td>...</td>\n",
       "    </tr>\n",
       "    <tr>\n",
       "      <th>1000204</th>\n",
       "      <td>3952</td>\n",
       "      <td>Contender, The (2000)</td>\n",
       "      <td>Drama|Thriller</td>\n",
       "      <td>5812</td>\n",
       "      <td>4</td>\n",
       "      <td>992072099</td>\n",
       "    </tr>\n",
       "    <tr>\n",
       "      <th>1000205</th>\n",
       "      <td>3952</td>\n",
       "      <td>Contender, The (2000)</td>\n",
       "      <td>Drama|Thriller</td>\n",
       "      <td>5831</td>\n",
       "      <td>3</td>\n",
       "      <td>986223125</td>\n",
       "    </tr>\n",
       "    <tr>\n",
       "      <th>1000206</th>\n",
       "      <td>3952</td>\n",
       "      <td>Contender, The (2000)</td>\n",
       "      <td>Drama|Thriller</td>\n",
       "      <td>5837</td>\n",
       "      <td>4</td>\n",
       "      <td>1011902656</td>\n",
       "    </tr>\n",
       "    <tr>\n",
       "      <th>1000207</th>\n",
       "      <td>3952</td>\n",
       "      <td>Contender, The (2000)</td>\n",
       "      <td>Drama|Thriller</td>\n",
       "      <td>5927</td>\n",
       "      <td>1</td>\n",
       "      <td>979852537</td>\n",
       "    </tr>\n",
       "    <tr>\n",
       "      <th>1000208</th>\n",
       "      <td>3952</td>\n",
       "      <td>Contender, The (2000)</td>\n",
       "      <td>Drama|Thriller</td>\n",
       "      <td>5998</td>\n",
       "      <td>4</td>\n",
       "      <td>1001781044</td>\n",
       "    </tr>\n",
       "  </tbody>\n",
       "</table>\n",
       "<p>1000209 rows × 6 columns</p>\n",
       "</div>"
      ],
      "text/plain": [
       "         MovieId                  Title                        Genre  UserId  \\\n",
       "0              1       Toy Story (1995)  Animation|Children's|Comedy       1   \n",
       "1              1       Toy Story (1995)  Animation|Children's|Comedy       6   \n",
       "2              1       Toy Story (1995)  Animation|Children's|Comedy       8   \n",
       "3              1       Toy Story (1995)  Animation|Children's|Comedy       9   \n",
       "4              1       Toy Story (1995)  Animation|Children's|Comedy      10   \n",
       "...          ...                    ...                          ...     ...   \n",
       "1000204     3952  Contender, The (2000)               Drama|Thriller    5812   \n",
       "1000205     3952  Contender, The (2000)               Drama|Thriller    5831   \n",
       "1000206     3952  Contender, The (2000)               Drama|Thriller    5837   \n",
       "1000207     3952  Contender, The (2000)               Drama|Thriller    5927   \n",
       "1000208     3952  Contender, The (2000)               Drama|Thriller    5998   \n",
       "\n",
       "         Ratings   Timestamp  \n",
       "0              5   978824268  \n",
       "1              4   978237008  \n",
       "2              4   978233496  \n",
       "3              5   978225952  \n",
       "4              5   978226474  \n",
       "...          ...         ...  \n",
       "1000204        4   992072099  \n",
       "1000205        3   986223125  \n",
       "1000206        4  1011902656  \n",
       "1000207        1   979852537  \n",
       "1000208        4  1001781044  \n",
       "\n",
       "[1000209 rows x 6 columns]"
      ]
     },
     "execution_count": 6,
     "metadata": {},
     "output_type": "execute_result"
    }
   ],
   "source": [
    "#Merged Dataset 'Y'\n",
    "Y"
   ]
  },
  {
   "cell_type": "code",
   "execution_count": 7,
   "metadata": {},
   "outputs": [],
   "source": [
    "#Merging of the dataset 'Y' and the 'Users' dataset using the key 'UserId' and naming it 'Z'\n",
    "Z=pd.merge(Y,B,on='UserId')"
   ]
  },
  {
   "cell_type": "code",
   "execution_count": 8,
   "metadata": {},
   "outputs": [
    {
     "data": {
      "text/html": [
       "<div>\n",
       "<style scoped>\n",
       "    .dataframe tbody tr th:only-of-type {\n",
       "        vertical-align: middle;\n",
       "    }\n",
       "\n",
       "    .dataframe tbody tr th {\n",
       "        vertical-align: top;\n",
       "    }\n",
       "\n",
       "    .dataframe thead th {\n",
       "        text-align: right;\n",
       "    }\n",
       "</style>\n",
       "<table border=\"1\" class=\"dataframe\">\n",
       "  <thead>\n",
       "    <tr style=\"text-align: right;\">\n",
       "      <th></th>\n",
       "      <th>MovieId</th>\n",
       "      <th>Title</th>\n",
       "      <th>Genre</th>\n",
       "      <th>UserId</th>\n",
       "      <th>Ratings</th>\n",
       "      <th>Timestamp</th>\n",
       "      <th>Gender</th>\n",
       "      <th>Age</th>\n",
       "      <th>Occupation</th>\n",
       "      <th>Zipcode</th>\n",
       "    </tr>\n",
       "  </thead>\n",
       "  <tbody>\n",
       "    <tr>\n",
       "      <th>0</th>\n",
       "      <td>1</td>\n",
       "      <td>Toy Story (1995)</td>\n",
       "      <td>Animation|Children's|Comedy</td>\n",
       "      <td>1</td>\n",
       "      <td>5</td>\n",
       "      <td>978824268</td>\n",
       "      <td>F</td>\n",
       "      <td>1</td>\n",
       "      <td>10</td>\n",
       "      <td>48067</td>\n",
       "    </tr>\n",
       "    <tr>\n",
       "      <th>1</th>\n",
       "      <td>48</td>\n",
       "      <td>Pocahontas (1995)</td>\n",
       "      <td>Animation|Children's|Musical|Romance</td>\n",
       "      <td>1</td>\n",
       "      <td>5</td>\n",
       "      <td>978824351</td>\n",
       "      <td>F</td>\n",
       "      <td>1</td>\n",
       "      <td>10</td>\n",
       "      <td>48067</td>\n",
       "    </tr>\n",
       "    <tr>\n",
       "      <th>2</th>\n",
       "      <td>150</td>\n",
       "      <td>Apollo 13 (1995)</td>\n",
       "      <td>Drama</td>\n",
       "      <td>1</td>\n",
       "      <td>5</td>\n",
       "      <td>978301777</td>\n",
       "      <td>F</td>\n",
       "      <td>1</td>\n",
       "      <td>10</td>\n",
       "      <td>48067</td>\n",
       "    </tr>\n",
       "    <tr>\n",
       "      <th>3</th>\n",
       "      <td>260</td>\n",
       "      <td>Star Wars: Episode IV - A New Hope (1977)</td>\n",
       "      <td>Action|Adventure|Fantasy|Sci-Fi</td>\n",
       "      <td>1</td>\n",
       "      <td>4</td>\n",
       "      <td>978300760</td>\n",
       "      <td>F</td>\n",
       "      <td>1</td>\n",
       "      <td>10</td>\n",
       "      <td>48067</td>\n",
       "    </tr>\n",
       "    <tr>\n",
       "      <th>4</th>\n",
       "      <td>527</td>\n",
       "      <td>Schindler's List (1993)</td>\n",
       "      <td>Drama|War</td>\n",
       "      <td>1</td>\n",
       "      <td>5</td>\n",
       "      <td>978824195</td>\n",
       "      <td>F</td>\n",
       "      <td>1</td>\n",
       "      <td>10</td>\n",
       "      <td>48067</td>\n",
       "    </tr>\n",
       "    <tr>\n",
       "      <th>...</th>\n",
       "      <td>...</td>\n",
       "      <td>...</td>\n",
       "      <td>...</td>\n",
       "      <td>...</td>\n",
       "      <td>...</td>\n",
       "      <td>...</td>\n",
       "      <td>...</td>\n",
       "      <td>...</td>\n",
       "      <td>...</td>\n",
       "      <td>...</td>\n",
       "    </tr>\n",
       "    <tr>\n",
       "      <th>1000204</th>\n",
       "      <td>3513</td>\n",
       "      <td>Rules of Engagement (2000)</td>\n",
       "      <td>Drama|Thriller</td>\n",
       "      <td>5727</td>\n",
       "      <td>4</td>\n",
       "      <td>958489970</td>\n",
       "      <td>M</td>\n",
       "      <td>25</td>\n",
       "      <td>4</td>\n",
       "      <td>92843</td>\n",
       "    </tr>\n",
       "    <tr>\n",
       "      <th>1000205</th>\n",
       "      <td>3535</td>\n",
       "      <td>American Psycho (2000)</td>\n",
       "      <td>Comedy|Horror|Thriller</td>\n",
       "      <td>5727</td>\n",
       "      <td>2</td>\n",
       "      <td>958489970</td>\n",
       "      <td>M</td>\n",
       "      <td>25</td>\n",
       "      <td>4</td>\n",
       "      <td>92843</td>\n",
       "    </tr>\n",
       "    <tr>\n",
       "      <th>1000206</th>\n",
       "      <td>3536</td>\n",
       "      <td>Keeping the Faith (2000)</td>\n",
       "      <td>Comedy|Romance</td>\n",
       "      <td>5727</td>\n",
       "      <td>5</td>\n",
       "      <td>958489902</td>\n",
       "      <td>M</td>\n",
       "      <td>25</td>\n",
       "      <td>4</td>\n",
       "      <td>92843</td>\n",
       "    </tr>\n",
       "    <tr>\n",
       "      <th>1000207</th>\n",
       "      <td>3555</td>\n",
       "      <td>U-571 (2000)</td>\n",
       "      <td>Action|Thriller</td>\n",
       "      <td>5727</td>\n",
       "      <td>3</td>\n",
       "      <td>958490699</td>\n",
       "      <td>M</td>\n",
       "      <td>25</td>\n",
       "      <td>4</td>\n",
       "      <td>92843</td>\n",
       "    </tr>\n",
       "    <tr>\n",
       "      <th>1000208</th>\n",
       "      <td>3578</td>\n",
       "      <td>Gladiator (2000)</td>\n",
       "      <td>Action|Drama</td>\n",
       "      <td>5727</td>\n",
       "      <td>5</td>\n",
       "      <td>958490171</td>\n",
       "      <td>M</td>\n",
       "      <td>25</td>\n",
       "      <td>4</td>\n",
       "      <td>92843</td>\n",
       "    </tr>\n",
       "  </tbody>\n",
       "</table>\n",
       "<p>1000209 rows × 10 columns</p>\n",
       "</div>"
      ],
      "text/plain": [
       "         MovieId                                      Title  \\\n",
       "0              1                           Toy Story (1995)   \n",
       "1             48                          Pocahontas (1995)   \n",
       "2            150                           Apollo 13 (1995)   \n",
       "3            260  Star Wars: Episode IV - A New Hope (1977)   \n",
       "4            527                    Schindler's List (1993)   \n",
       "...          ...                                        ...   \n",
       "1000204     3513                 Rules of Engagement (2000)   \n",
       "1000205     3535                     American Psycho (2000)   \n",
       "1000206     3536                   Keeping the Faith (2000)   \n",
       "1000207     3555                               U-571 (2000)   \n",
       "1000208     3578                           Gladiator (2000)   \n",
       "\n",
       "                                        Genre  UserId  Ratings  Timestamp  \\\n",
       "0                 Animation|Children's|Comedy       1        5  978824268   \n",
       "1        Animation|Children's|Musical|Romance       1        5  978824351   \n",
       "2                                       Drama       1        5  978301777   \n",
       "3             Action|Adventure|Fantasy|Sci-Fi       1        4  978300760   \n",
       "4                                   Drama|War       1        5  978824195   \n",
       "...                                       ...     ...      ...        ...   \n",
       "1000204                        Drama|Thriller    5727        4  958489970   \n",
       "1000205                Comedy|Horror|Thriller    5727        2  958489970   \n",
       "1000206                        Comedy|Romance    5727        5  958489902   \n",
       "1000207                       Action|Thriller    5727        3  958490699   \n",
       "1000208                          Action|Drama    5727        5  958490171   \n",
       "\n",
       "        Gender  Age  Occupation Zipcode  \n",
       "0            F    1          10   48067  \n",
       "1            F    1          10   48067  \n",
       "2            F    1          10   48067  \n",
       "3            F    1          10   48067  \n",
       "4            F    1          10   48067  \n",
       "...        ...  ...         ...     ...  \n",
       "1000204      M   25           4   92843  \n",
       "1000205      M   25           4   92843  \n",
       "1000206      M   25           4   92843  \n",
       "1000207      M   25           4   92843  \n",
       "1000208      M   25           4   92843  \n",
       "\n",
       "[1000209 rows x 10 columns]"
      ]
     },
     "execution_count": 8,
     "metadata": {},
     "output_type": "execute_result"
    }
   ],
   "source": [
    "#Merged dataset 'Z'\n",
    "Z"
   ]
  },
  {
   "cell_type": "code",
   "execution_count": 9,
   "metadata": {},
   "outputs": [],
   "source": [
    "#Extracting ths columns 'MovieId', 'Title' ,'UserId' ,'Age' ,'Gender' ,'Occupation' ,'Ratings' from the Z dataframe and forming a new dataframe 'Master_Dataset'\n",
    "Master_Dataset=Z[['MovieId', 'Title' ,'UserId' ,'Age' ,'Gender' ,'Occupation' ,'Ratings']]"
   ]
  },
  {
   "cell_type": "code",
   "execution_count": 10,
   "metadata": {},
   "outputs": [
    {
     "data": {
      "text/html": [
       "<div>\n",
       "<style scoped>\n",
       "    .dataframe tbody tr th:only-of-type {\n",
       "        vertical-align: middle;\n",
       "    }\n",
       "\n",
       "    .dataframe tbody tr th {\n",
       "        vertical-align: top;\n",
       "    }\n",
       "\n",
       "    .dataframe thead th {\n",
       "        text-align: right;\n",
       "    }\n",
       "</style>\n",
       "<table border=\"1\" class=\"dataframe\">\n",
       "  <thead>\n",
       "    <tr style=\"text-align: right;\">\n",
       "      <th></th>\n",
       "      <th>MovieId</th>\n",
       "      <th>Title</th>\n",
       "      <th>UserId</th>\n",
       "      <th>Age</th>\n",
       "      <th>Gender</th>\n",
       "      <th>Occupation</th>\n",
       "      <th>Ratings</th>\n",
       "    </tr>\n",
       "  </thead>\n",
       "  <tbody>\n",
       "    <tr>\n",
       "      <th>0</th>\n",
       "      <td>1</td>\n",
       "      <td>Toy Story (1995)</td>\n",
       "      <td>1</td>\n",
       "      <td>1</td>\n",
       "      <td>F</td>\n",
       "      <td>10</td>\n",
       "      <td>5</td>\n",
       "    </tr>\n",
       "    <tr>\n",
       "      <th>1</th>\n",
       "      <td>48</td>\n",
       "      <td>Pocahontas (1995)</td>\n",
       "      <td>1</td>\n",
       "      <td>1</td>\n",
       "      <td>F</td>\n",
       "      <td>10</td>\n",
       "      <td>5</td>\n",
       "    </tr>\n",
       "    <tr>\n",
       "      <th>2</th>\n",
       "      <td>150</td>\n",
       "      <td>Apollo 13 (1995)</td>\n",
       "      <td>1</td>\n",
       "      <td>1</td>\n",
       "      <td>F</td>\n",
       "      <td>10</td>\n",
       "      <td>5</td>\n",
       "    </tr>\n",
       "    <tr>\n",
       "      <th>3</th>\n",
       "      <td>260</td>\n",
       "      <td>Star Wars: Episode IV - A New Hope (1977)</td>\n",
       "      <td>1</td>\n",
       "      <td>1</td>\n",
       "      <td>F</td>\n",
       "      <td>10</td>\n",
       "      <td>4</td>\n",
       "    </tr>\n",
       "    <tr>\n",
       "      <th>4</th>\n",
       "      <td>527</td>\n",
       "      <td>Schindler's List (1993)</td>\n",
       "      <td>1</td>\n",
       "      <td>1</td>\n",
       "      <td>F</td>\n",
       "      <td>10</td>\n",
       "      <td>5</td>\n",
       "    </tr>\n",
       "    <tr>\n",
       "      <th>...</th>\n",
       "      <td>...</td>\n",
       "      <td>...</td>\n",
       "      <td>...</td>\n",
       "      <td>...</td>\n",
       "      <td>...</td>\n",
       "      <td>...</td>\n",
       "      <td>...</td>\n",
       "    </tr>\n",
       "    <tr>\n",
       "      <th>1000204</th>\n",
       "      <td>3513</td>\n",
       "      <td>Rules of Engagement (2000)</td>\n",
       "      <td>5727</td>\n",
       "      <td>25</td>\n",
       "      <td>M</td>\n",
       "      <td>4</td>\n",
       "      <td>4</td>\n",
       "    </tr>\n",
       "    <tr>\n",
       "      <th>1000205</th>\n",
       "      <td>3535</td>\n",
       "      <td>American Psycho (2000)</td>\n",
       "      <td>5727</td>\n",
       "      <td>25</td>\n",
       "      <td>M</td>\n",
       "      <td>4</td>\n",
       "      <td>2</td>\n",
       "    </tr>\n",
       "    <tr>\n",
       "      <th>1000206</th>\n",
       "      <td>3536</td>\n",
       "      <td>Keeping the Faith (2000)</td>\n",
       "      <td>5727</td>\n",
       "      <td>25</td>\n",
       "      <td>M</td>\n",
       "      <td>4</td>\n",
       "      <td>5</td>\n",
       "    </tr>\n",
       "    <tr>\n",
       "      <th>1000207</th>\n",
       "      <td>3555</td>\n",
       "      <td>U-571 (2000)</td>\n",
       "      <td>5727</td>\n",
       "      <td>25</td>\n",
       "      <td>M</td>\n",
       "      <td>4</td>\n",
       "      <td>3</td>\n",
       "    </tr>\n",
       "    <tr>\n",
       "      <th>1000208</th>\n",
       "      <td>3578</td>\n",
       "      <td>Gladiator (2000)</td>\n",
       "      <td>5727</td>\n",
       "      <td>25</td>\n",
       "      <td>M</td>\n",
       "      <td>4</td>\n",
       "      <td>5</td>\n",
       "    </tr>\n",
       "  </tbody>\n",
       "</table>\n",
       "<p>1000209 rows × 7 columns</p>\n",
       "</div>"
      ],
      "text/plain": [
       "         MovieId                                      Title  UserId  Age  \\\n",
       "0              1                           Toy Story (1995)       1    1   \n",
       "1             48                          Pocahontas (1995)       1    1   \n",
       "2            150                           Apollo 13 (1995)       1    1   \n",
       "3            260  Star Wars: Episode IV - A New Hope (1977)       1    1   \n",
       "4            527                    Schindler's List (1993)       1    1   \n",
       "...          ...                                        ...     ...  ...   \n",
       "1000204     3513                 Rules of Engagement (2000)    5727   25   \n",
       "1000205     3535                     American Psycho (2000)    5727   25   \n",
       "1000206     3536                   Keeping the Faith (2000)    5727   25   \n",
       "1000207     3555                               U-571 (2000)    5727   25   \n",
       "1000208     3578                           Gladiator (2000)    5727   25   \n",
       "\n",
       "        Gender  Occupation  Ratings  \n",
       "0            F          10        5  \n",
       "1            F          10        5  \n",
       "2            F          10        5  \n",
       "3            F          10        4  \n",
       "4            F          10        5  \n",
       "...        ...         ...      ...  \n",
       "1000204      M           4        4  \n",
       "1000205      M           4        2  \n",
       "1000206      M           4        5  \n",
       "1000207      M           4        3  \n",
       "1000208      M           4        5  \n",
       "\n",
       "[1000209 rows x 7 columns]"
      ]
     },
     "execution_count": 10,
     "metadata": {},
     "output_type": "execute_result"
    }
   ],
   "source": [
    "#New dataframe Master_dataset\n",
    "Master_Dataset"
   ]
  },
  {
   "cell_type": "code",
   "execution_count": 11,
   "metadata": {},
   "outputs": [],
   "source": [
    "#Visualization tools"
   ]
  },
  {
   "cell_type": "code",
   "execution_count": 12,
   "metadata": {},
   "outputs": [],
   "source": [
    "#Importing the matplotlib library for accesing the visualization tools\n",
    "import matplotlib.pyplot as plt"
   ]
  },
  {
   "cell_type": "code",
   "execution_count": 13,
   "metadata": {},
   "outputs": [
    {
     "name": "stderr",
     "output_type": "stream",
     "text": [
      "<ipython-input-13-0bf59fee5ee4>:2: MatplotlibDeprecationWarning: Support for uppercase single-letter colors is deprecated since Matplotlib 3.1 and will be removed in 3.3; please use lowercase instead.\n",
      "  plt.hist(Master_Dataset['Age'],color='R')\n"
     ]
    },
    {
     "data": {
      "image/png": "[encoded data removed]",
      "text/plain": [
       "<Figure size 432x288 with 1 Axes>"
      ]
     },
     "metadata": {
      "needs_background": "light"
     },
     "output_type": "display_data"
    }
   ],
   "source": [
    "#Exploring the User Age Distribution using visual representations tools on the 'Age' column of the Dataframe Master_Dataset\n",
    "plt.hist(Master_Dataset['Age'],color='R')\n",
    "plt.xlabel('Age Distribution')\n",
    "plt.ylabel('No. of movies')\n",
    "plt.show()\n",
    "#Maximum no. of people who watches movies are aged in between 18 to 40 years"
   ]
  },
  {
   "cell_type": "code",
   "execution_count": 14,
   "metadata": {},
   "outputs": [
    {
     "data": {
      "image/png": "[encoded data removed]",
      "text/plain": [
       "<Figure size 432x288 with 1 Axes>"
      ]
     },
     "metadata": {
      "needs_background": "light"
     },
     "output_type": "display_data"
    }
   ],
   "source": [
    "#Exploring the User rating of the movie “Toy Story using visual representations tools on the 'Ratings' column of the Dataframe Master_Dataset\n",
    "plt.hist(Master_Dataset['Ratings'][Z['Title']=='Toy Story (1995)'])\n",
    "plt.xlabel('Movie ratings')\n",
    "plt.ylabel('No. of users')\n",
    "plt.show()\n",
    "#Most of the people have rated the movie 'toy story' above 3.5 "
   ]
  },
  {
   "cell_type": "code",
   "execution_count": 15,
   "metadata": {},
   "outputs": [],
   "source": [
    "#Top 25 movies by viewership rating"
   ]
  },
  {
   "cell_type": "code",
   "execution_count": 16,
   "metadata": {},
   "outputs": [],
   "source": [
    "#grouping the movies by title name in the Dataframe 'Master_Dataset' using the groupby function and naming the dataframe as 'P'\n",
    "P=Master_Dataset.groupby('Title')"
   ]
  },
  {
   "cell_type": "code",
   "execution_count": 17,
   "metadata": {},
   "outputs": [],
   "source": [
    "#Fiding the mean ratings of the different movies in the dataframe 'P' and naming the series as 'D'\n",
    "D=P['Ratings'].mean()"
   ]
  },
  {
   "cell_type": "code",
   "execution_count": 18,
   "metadata": {},
   "outputs": [],
   "source": [
    "#Sorting the values in the series 'D' into descending order\n",
    "D.sort_values( inplace=True, ascending=False)\n"
   ]
  },
  {
   "cell_type": "code",
   "execution_count": 19,
   "metadata": {},
   "outputs": [],
   "source": [
    "#Finding the top 25 movies in the series 'D'\n",
    "S=D.head(25)"
   ]
  },
  {
   "cell_type": "code",
   "execution_count": 20,
   "metadata": {},
   "outputs": [
    {
     "name": "stdout",
     "output_type": "stream",
     "text": [
      "Title\n",
      "Gate of Heavenly Peace, The (1995)                                     5.000000\n",
      "Lured (1947)                                                           5.000000\n",
      "Ulysses (Ulisse) (1954)                                                5.000000\n",
      "Smashing Time (1967)                                                   5.000000\n",
      "Follow the Bitch (1998)                                                5.000000\n",
      "Song of Freedom (1936)                                                 5.000000\n",
      "Bittersweet Motel (2000)                                               5.000000\n",
      "Baby, The (1973)                                                       5.000000\n",
      "One Little Indian (1973)                                               5.000000\n",
      "Schlafes Bruder (Brother of Sleep) (1995)                              5.000000\n",
      "I Am Cuba (Soy Cuba/Ya Kuba) (1964)                                    4.800000\n",
      "Lamerica (1994)                                                        4.750000\n",
      "Apple, The (Sib) (1998)                                                4.666667\n",
      "Sanjuro (1962)                                                         4.608696\n",
      "Seven Samurai (The Magnificent Seven) (Shichinin no samurai) (1954)    4.560510\n",
      "Shawshank Redemption, The (1994)                                       4.554558\n",
      "Godfather, The (1972)                                                  4.524966\n",
      "Close Shave, A (1995)                                                  4.520548\n",
      "Usual Suspects, The (1995)                                             4.517106\n",
      "Schindler's List (1993)                                                4.510417\n",
      "Wrong Trousers, The (1993)                                             4.507937\n",
      "Dangerous Game (1993)                                                  4.500000\n",
      "Mamma Roma (1962)                                                      4.500000\n",
      "Inheritors, The (Die Siebtelbauern) (1998)                             4.500000\n",
      "Hour of the Pig, The (1993)                                            4.500000\n",
      "Name: Ratings, dtype: float64\n"
     ]
    }
   ],
   "source": [
    "#Top 25 movies by viewership rating\n",
    "print(S)"
   ]
  },
  {
   "cell_type": "code",
   "execution_count": 21,
   "metadata": {},
   "outputs": [],
   "source": [
    "#Find the ratings for all the movies reviewed by for a particular user of user id = 2696"
   ]
  },
  {
   "cell_type": "code",
   "execution_count": 22,
   "metadata": {},
   "outputs": [],
   "source": [
    "#Grouping the various movies in the dataframe 'Z' by the 'UserId' by using groupby function\n",
    "I=Z.groupby('UserId')"
   ]
  },
  {
   "cell_type": "code",
   "execution_count": 23,
   "metadata": {},
   "outputs": [],
   "source": [
    "#Getting all the info about the 'Userid=2696' by usning the function get_group\n",
    "L=I.get_group(2696)"
   ]
  },
  {
   "cell_type": "code",
   "execution_count": 24,
   "metadata": {},
   "outputs": [
    {
     "name": "stdout",
     "output_type": "stream",
     "text": [
      "991035                                Client, The (1994)\n",
      "991036                                  Lone Star (1996)\n",
      "991037                             Basic Instinct (1992)\n",
      "991038                 E.T. the Extra-Terrestrial (1982)\n",
      "991039                               Shining, The (1980)\n",
      "991040                         Back to the Future (1985)\n",
      "991041                                   Cop Land (1997)\n",
      "991042                          L.A. Confidential (1997)\n",
      "991043                                  Game, The (1997)\n",
      "991044            I Know What You Did Last Summer (1997)\n",
      "991045                      Devil's Advocate, The (1997)\n",
      "991046    Midnight in the Garden of Good and Evil (1997)\n",
      "991047                                   Palmetto (1998)\n",
      "991048                                Wild Things (1998)\n",
      "991049                          Perfect Murder, A (1998)\n",
      "991050      I Still Know What You Did Last Summer (1998)\n",
      "991051                                     Psycho (1998)\n",
      "991052                                Lake Placid (1999)\n",
      "991053                   Talented Mr. Ripley, The (1999)\n",
      "991054                                        JFK (1991)\n",
      "Name: Title, dtype: object\n"
     ]
    }
   ],
   "source": [
    "#Extracting the title of the movies revied by the user of userid-2696\n",
    "print(L.Title)"
   ]
  },
  {
   "cell_type": "code",
   "execution_count": 25,
   "metadata": {},
   "outputs": [],
   "source": [
    "#Feature Engineering:"
   ]
  },
  {
   "cell_type": "code",
   "execution_count": 26,
   "metadata": {},
   "outputs": [],
   "source": [
    "#Separating the different Genres in the dataframe 'Z' using str.split function and naming the series 'Unique_Genres'\n",
    "Unique_Genres=Z['Genre'].str.split('|').str.get(0)"
   ]
  },
  {
   "cell_type": "code",
   "execution_count": 27,
   "metadata": {},
   "outputs": [
    {
     "data": {
      "text/plain": [
       "{'Action',\n",
       " 'Adventure',\n",
       " 'Animation',\n",
       " \"Children's\",\n",
       " 'Comedy',\n",
       " 'Crime',\n",
       " 'Documentary',\n",
       " 'Drama',\n",
       " 'Fantasy',\n",
       " 'Film-Noir',\n",
       " 'Horror',\n",
       " 'Musical',\n",
       " 'Mystery',\n",
       " 'Romance',\n",
       " 'Sci-Fi',\n",
       " 'Thriller',\n",
       " 'War',\n",
       " 'Western'}"
      ]
     },
     "execution_count": 27,
     "metadata": {},
     "output_type": "execute_result"
    }
   ],
   "source": [
    "#Finding the Uniques Genres by converting the series Unique_Genres into a set\n",
    "set(Unique_Genres)"
   ]
  },
  {
   "cell_type": "code",
   "execution_count": null,
   "metadata": {},
   "outputs": [],
   "source": []
  },
  {
   "cell_type": "code",
   "execution_count": 28,
   "metadata": {},
   "outputs": [],
   "source": [
    "# Creating a separate column for each Genre of the Dataframe 'Z' using the get_dummies function and naming the dataframe 'Separate_Columns_Genres' \n",
    "Separate_Columns_Genres=Z['Genre'].str.get_dummies(sep='|')\n"
   ]
  },
  {
   "cell_type": "code",
   "execution_count": 29,
   "metadata": {},
   "outputs": [
    {
     "data": {
      "text/html": [
       "<div>\n",
       "<style scoped>\n",
       "    .dataframe tbody tr th:only-of-type {\n",
       "        vertical-align: middle;\n",
       "    }\n",
       "\n",
       "    .dataframe tbody tr th {\n",
       "        vertical-align: top;\n",
       "    }\n",
       "\n",
       "    .dataframe thead th {\n",
       "        text-align: right;\n",
       "    }\n",
       "</style>\n",
       "<table border=\"1\" class=\"dataframe\">\n",
       "  <thead>\n",
       "    <tr style=\"text-align: right;\">\n",
       "      <th></th>\n",
       "      <th>Action</th>\n",
       "      <th>Adventure</th>\n",
       "      <th>Animation</th>\n",
       "      <th>Children's</th>\n",
       "      <th>Comedy</th>\n",
       "      <th>Crime</th>\n",
       "      <th>Documentary</th>\n",
       "      <th>Drama</th>\n",
       "      <th>Fantasy</th>\n",
       "      <th>Film-Noir</th>\n",
       "      <th>Horror</th>\n",
       "      <th>Musical</th>\n",
       "      <th>Mystery</th>\n",
       "      <th>Romance</th>\n",
       "      <th>Sci-Fi</th>\n",
       "      <th>Thriller</th>\n",
       "      <th>War</th>\n",
       "      <th>Western</th>\n",
       "    </tr>\n",
       "  </thead>\n",
       "  <tbody>\n",
       "    <tr>\n",
       "      <th>0</th>\n",
       "      <td>0</td>\n",
       "      <td>0</td>\n",
       "      <td>1</td>\n",
       "      <td>1</td>\n",
       "      <td>1</td>\n",
       "      <td>0</td>\n",
       "      <td>0</td>\n",
       "      <td>0</td>\n",
       "      <td>0</td>\n",
       "      <td>0</td>\n",
       "      <td>0</td>\n",
       "      <td>0</td>\n",
       "      <td>0</td>\n",
       "      <td>0</td>\n",
       "      <td>0</td>\n",
       "      <td>0</td>\n",
       "      <td>0</td>\n",
       "      <td>0</td>\n",
       "    </tr>\n",
       "    <tr>\n",
       "      <th>1</th>\n",
       "      <td>0</td>\n",
       "      <td>0</td>\n",
       "      <td>1</td>\n",
       "      <td>1</td>\n",
       "      <td>0</td>\n",
       "      <td>0</td>\n",
       "      <td>0</td>\n",
       "      <td>0</td>\n",
       "      <td>0</td>\n",
       "      <td>0</td>\n",
       "      <td>0</td>\n",
       "      <td>1</td>\n",
       "      <td>0</td>\n",
       "      <td>1</td>\n",
       "      <td>0</td>\n",
       "      <td>0</td>\n",
       "      <td>0</td>\n",
       "      <td>0</td>\n",
       "    </tr>\n",
       "    <tr>\n",
       "      <th>2</th>\n",
       "      <td>0</td>\n",
       "      <td>0</td>\n",
       "      <td>0</td>\n",
       "      <td>0</td>\n",
       "      <td>0</td>\n",
       "      <td>0</td>\n",
       "      <td>0</td>\n",
       "      <td>1</td>\n",
       "      <td>0</td>\n",
       "      <td>0</td>\n",
       "      <td>0</td>\n",
       "      <td>0</td>\n",
       "      <td>0</td>\n",
       "      <td>0</td>\n",
       "      <td>0</td>\n",
       "      <td>0</td>\n",
       "      <td>0</td>\n",
       "      <td>0</td>\n",
       "    </tr>\n",
       "    <tr>\n",
       "      <th>3</th>\n",
       "      <td>1</td>\n",
       "      <td>1</td>\n",
       "      <td>0</td>\n",
       "      <td>0</td>\n",
       "      <td>0</td>\n",
       "      <td>0</td>\n",
       "      <td>0</td>\n",
       "      <td>0</td>\n",
       "      <td>1</td>\n",
       "      <td>0</td>\n",
       "      <td>0</td>\n",
       "      <td>0</td>\n",
       "      <td>0</td>\n",
       "      <td>0</td>\n",
       "      <td>1</td>\n",
       "      <td>0</td>\n",
       "      <td>0</td>\n",
       "      <td>0</td>\n",
       "    </tr>\n",
       "    <tr>\n",
       "      <th>4</th>\n",
       "      <td>0</td>\n",
       "      <td>0</td>\n",
       "      <td>0</td>\n",
       "      <td>0</td>\n",
       "      <td>0</td>\n",
       "      <td>0</td>\n",
       "      <td>0</td>\n",
       "      <td>1</td>\n",
       "      <td>0</td>\n",
       "      <td>0</td>\n",
       "      <td>0</td>\n",
       "      <td>0</td>\n",
       "      <td>0</td>\n",
       "      <td>0</td>\n",
       "      <td>0</td>\n",
       "      <td>0</td>\n",
       "      <td>1</td>\n",
       "      <td>0</td>\n",
       "    </tr>\n",
       "    <tr>\n",
       "      <th>...</th>\n",
       "      <td>...</td>\n",
       "      <td>...</td>\n",
       "      <td>...</td>\n",
       "      <td>...</td>\n",
       "      <td>...</td>\n",
       "      <td>...</td>\n",
       "      <td>...</td>\n",
       "      <td>...</td>\n",
       "      <td>...</td>\n",
       "      <td>...</td>\n",
       "      <td>...</td>\n",
       "      <td>...</td>\n",
       "      <td>...</td>\n",
       "      <td>...</td>\n",
       "      <td>...</td>\n",
       "      <td>...</td>\n",
       "      <td>...</td>\n",
       "      <td>...</td>\n",
       "    </tr>\n",
       "    <tr>\n",
       "      <th>1000204</th>\n",
       "      <td>0</td>\n",
       "      <td>0</td>\n",
       "      <td>0</td>\n",
       "      <td>0</td>\n",
       "      <td>0</td>\n",
       "      <td>0</td>\n",
       "      <td>0</td>\n",
       "      <td>1</td>\n",
       "      <td>0</td>\n",
       "      <td>0</td>\n",
       "      <td>0</td>\n",
       "      <td>0</td>\n",
       "      <td>0</td>\n",
       "      <td>0</td>\n",
       "      <td>0</td>\n",
       "      <td>1</td>\n",
       "      <td>0</td>\n",
       "      <td>0</td>\n",
       "    </tr>\n",
       "    <tr>\n",
       "      <th>1000205</th>\n",
       "      <td>0</td>\n",
       "      <td>0</td>\n",
       "      <td>0</td>\n",
       "      <td>0</td>\n",
       "      <td>1</td>\n",
       "      <td>0</td>\n",
       "      <td>0</td>\n",
       "      <td>0</td>\n",
       "      <td>0</td>\n",
       "      <td>0</td>\n",
       "      <td>1</td>\n",
       "      <td>0</td>\n",
       "      <td>0</td>\n",
       "      <td>0</td>\n",
       "      <td>0</td>\n",
       "      <td>1</td>\n",
       "      <td>0</td>\n",
       "      <td>0</td>\n",
       "    </tr>\n",
       "    <tr>\n",
       "      <th>1000206</th>\n",
       "      <td>0</td>\n",
       "      <td>0</td>\n",
       "      <td>0</td>\n",
       "      <td>0</td>\n",
       "      <td>1</td>\n",
       "      <td>0</td>\n",
       "      <td>0</td>\n",
       "      <td>0</td>\n",
       "      <td>0</td>\n",
       "      <td>0</td>\n",
       "      <td>0</td>\n",
       "      <td>0</td>\n",
       "      <td>0</td>\n",
       "      <td>1</td>\n",
       "      <td>0</td>\n",
       "      <td>0</td>\n",
       "      <td>0</td>\n",
       "      <td>0</td>\n",
       "    </tr>\n",
       "    <tr>\n",
       "      <th>1000207</th>\n",
       "      <td>1</td>\n",
       "      <td>0</td>\n",
       "      <td>0</td>\n",
       "      <td>0</td>\n",
       "      <td>0</td>\n",
       "      <td>0</td>\n",
       "      <td>0</td>\n",
       "      <td>0</td>\n",
       "      <td>0</td>\n",
       "      <td>0</td>\n",
       "      <td>0</td>\n",
       "      <td>0</td>\n",
       "      <td>0</td>\n",
       "      <td>0</td>\n",
       "      <td>0</td>\n",
       "      <td>1</td>\n",
       "      <td>0</td>\n",
       "      <td>0</td>\n",
       "    </tr>\n",
       "    <tr>\n",
       "      <th>1000208</th>\n",
       "      <td>1</td>\n",
       "      <td>0</td>\n",
       "      <td>0</td>\n",
       "      <td>0</td>\n",
       "      <td>0</td>\n",
       "      <td>0</td>\n",
       "      <td>0</td>\n",
       "      <td>1</td>\n",
       "      <td>0</td>\n",
       "      <td>0</td>\n",
       "      <td>0</td>\n",
       "      <td>0</td>\n",
       "      <td>0</td>\n",
       "      <td>0</td>\n",
       "      <td>0</td>\n",
       "      <td>0</td>\n",
       "      <td>0</td>\n",
       "      <td>0</td>\n",
       "    </tr>\n",
       "  </tbody>\n",
       "</table>\n",
       "<p>1000209 rows × 18 columns</p>\n",
       "</div>"
      ],
      "text/plain": [
       "         Action  Adventure  Animation  Children's  Comedy  Crime  Documentary  \\\n",
       "0             0          0          1           1       1      0            0   \n",
       "1             0          0          1           1       0      0            0   \n",
       "2             0          0          0           0       0      0            0   \n",
       "3             1          1          0           0       0      0            0   \n",
       "4             0          0          0           0       0      0            0   \n",
       "...         ...        ...        ...         ...     ...    ...          ...   \n",
       "1000204       0          0          0           0       0      0            0   \n",
       "1000205       0          0          0           0       1      0            0   \n",
       "1000206       0          0          0           0       1      0            0   \n",
       "1000207       1          0          0           0       0      0            0   \n",
       "1000208       1          0          0           0       0      0            0   \n",
       "\n",
       "         Drama  Fantasy  Film-Noir  Horror  Musical  Mystery  Romance  Sci-Fi  \\\n",
       "0            0        0          0       0        0        0        0       0   \n",
       "1            0        0          0       0        1        0        1       0   \n",
       "2            1        0          0       0        0        0        0       0   \n",
       "3            0        1          0       0        0        0        0       1   \n",
       "4            1        0          0       0        0        0        0       0   \n",
       "...        ...      ...        ...     ...      ...      ...      ...     ...   \n",
       "1000204      1        0          0       0        0        0        0       0   \n",
       "1000205      0        0          0       1        0        0        0       0   \n",
       "1000206      0        0          0       0        0        0        1       0   \n",
       "1000207      0        0          0       0        0        0        0       0   \n",
       "1000208      1        0          0       0        0        0        0       0   \n",
       "\n",
       "         Thriller  War  Western  \n",
       "0               0    0        0  \n",
       "1               0    0        0  \n",
       "2               0    0        0  \n",
       "3               0    0        0  \n",
       "4               0    1        0  \n",
       "...           ...  ...      ...  \n",
       "1000204         1    0        0  \n",
       "1000205         1    0        0  \n",
       "1000206         0    0        0  \n",
       "1000207         1    0        0  \n",
       "1000208         0    0        0  \n",
       "\n",
       "[1000209 rows x 18 columns]"
      ]
     },
     "execution_count": 29,
     "metadata": {},
     "output_type": "execute_result"
    }
   ],
   "source": [
    "#Dummy columns of each Genre with a one-hot encoding ( 1 and 0) whether or not the movie belongs to that genre\n",
    "Separate_Columns_Genres"
   ]
  },
  {
   "cell_type": "code",
   "execution_count": 30,
   "metadata": {},
   "outputs": [],
   "source": [
    "#Concatenation of the dataframes 'Separate_Columns_Genres' and the dataframe 'Z' on axis=1(columns) and naming the concatenated dataframe as Separate_Genres \n",
    "Separate_Genres=pd.concat((Z,Separate_Columns_Genres),axis=1)"
   ]
  },
  {
   "cell_type": "code",
   "execution_count": 31,
   "metadata": {},
   "outputs": [],
   "source": [
    "#Converting the nominal categorical column of 'Occupation' into dummy values using the getdummies function and droping out the first column, naming the resultant dataframe as 'Separate_Occupation' \n",
    "Separate_Occupation=pd.get_dummies(Separate_Genres,columns=['Occupation'],drop_first=True)"
   ]
  },
  {
   "cell_type": "code",
   "execution_count": 32,
   "metadata": {},
   "outputs": [],
   "source": [
    "#Droping the impertinent columns 'MovieId', 'Title', 'Genre', 'UserId','Timestamp','Zipcode' from the dataframe 'Separate_Occupation' as they would provide no information about the rating of a movie\n",
    "Separate_Occupation.drop(labels=['MovieId', 'Title', 'Genre', 'UserId','Timestamp','Zipcode'],axis=1,inplace=True)\n"
   ]
  },
  {
   "cell_type": "code",
   "execution_count": 33,
   "metadata": {},
   "outputs": [],
   "source": [
    "#Assigning the values of 1 and 0 to the Gender 'M' and 'F' respectively in the Dataframe 'Separate_Occupation'  using the .loc function as none of the values should be in 'string' format\n",
    "Separate_Occupation.loc[Separate_Occupation.Gender=='M','Gender']=1\n",
    "\n",
    "Separate_Occupation.loc[Separate_Occupation.Gender=='F','Gender']=0"
   ]
  },
  {
   "cell_type": "code",
   "execution_count": 34,
   "metadata": {},
   "outputs": [],
   "source": [
    "#Renaming the columns of the dataframe 'Separate_Occupation' using .columns so as to give names to the newly formed different occupation columns\n",
    "Separate_Occupation.columns=['Ratings', 'Gender',\n",
    "       'Age', 'Action', 'Adventure', 'Animation', 'Children',\n",
    "       'Comedy', 'Crime', 'Documentary', 'Drama', 'Fantasy', 'FilmNoir',\n",
    "       'Horror', 'Musical', 'Mystery', 'Romance', 'SciFi', 'Thriller', 'War',\n",
    "       'Western',\n",
    "\"academiceducator\",\n",
    "\"artist\",\n",
    "\"clericaladmin\",\n",
    "\"collegegradstudent\",\n",
    "\"customerservice\",\n",
    "\"doctorhealthcare\",\n",
    "\"executivemanagerial\",\n",
    "\"farmer\",\n",
    "\"homemaker\",\n",
    "\"K12student\",\n",
    "\"lawyer\",\n",
    "\"programmer\",\n",
    "\"retired\",\n",
    "\"salesmarketing\",\n",
    "\"scientist\",\n",
    "\"selfemployed\",\n",
    "\"technicianengineer\",\n",
    "\"tradesmancraftsman\",\n",
    "\"unemployed\",\n",
    "\"writer\"]"
   ]
  },
  {
   "cell_type": "code",
   "execution_count": 35,
   "metadata": {},
   "outputs": [],
   "source": [
    "#Providing the new values of the different Ages in the column 'Age' using th e.loc function\n",
    "Separate_Occupation.loc[Separate_Occupation.Age==1,'Age']=1\n",
    "Separate_Occupation.loc[Separate_Occupation.Age==18,'Age']=2\n",
    "Separate_Occupation.loc[Separate_Occupation.Age==25,'Age']=3\n",
    "Separate_Occupation.loc[Separate_Occupation.Age==35,'Age']=4\n",
    "Separate_Occupation.loc[Separate_Occupation.Age==45,'Age']=5\n",
    "Separate_Occupation.loc[Separate_Occupation.Age==50,'Age']=6\n",
    "Separate_Occupation.loc[Separate_Occupation.Age==56,'Age']=7\n",
    "\n",
    "\n",
    "\n"
   ]
  },
  {
   "cell_type": "code",
   "execution_count": 36,
   "metadata": {},
   "outputs": [],
   "source": [
    "#Factors affecting the ratings of the movies"
   ]
  },
  {
   "cell_type": "code",
   "execution_count": 37,
   "metadata": {},
   "outputs": [
    {
     "name": "stdout",
     "output_type": "stream",
     "text": [
      "                    df        sum_sq       mean_sq             F  \\\n",
      "Action             1.0  2.831990e+03   2831.989687   2353.942383   \n",
      "Adventure          1.0  5.164568e+02    516.456795    429.277530   \n",
      "Animation          1.0  3.014783e+02    301.478256    250.587934   \n",
      "Comedy             1.0  3.748953e+03   3748.952771   3116.119688   \n",
      "Crime              1.0  1.425765e+03   1425.765206   1185.092291   \n",
      "Documentary        1.0  6.897901e+02    689.790108    573.351724   \n",
      "Drama              1.0  1.439583e+04  14395.834858  11965.780090   \n",
      "Fantasy            1.0  1.147308e+02    114.730775     95.363918   \n",
      "FilmNoir           1.0  4.793952e+03   4793.951761   3984.720101   \n",
      "Children           1.0  3.166120e+03   3166.120426   2631.670975   \n",
      "Horror             1.0  6.501330e+03   6501.329617   5403.888087   \n",
      "SciFi              1.0  9.013696e+01     90.136964     74.921608   \n",
      "Musical            1.0  7.585678e+02    758.567792    630.519554   \n",
      "Mystery            1.0  6.657110e+00      6.657110      5.533372   \n",
      "Romance            1.0  1.409330e-02      0.014093      0.011714   \n",
      "Thriller           1.0  8.596400e+01     85.964002     71.453053   \n",
      "War                1.0  5.132517e+03   5132.517493   4266.135048   \n",
      "Western            1.0  3.035665e+02    303.566485    252.323664   \n",
      "Residual     1000190.0  1.203312e+06      1.203084           NaN   \n",
      "\n",
      "                    PR(>F)  \n",
      "Action        0.000000e+00  \n",
      "Adventure     2.444698e-95  \n",
      "Animation     1.963971e-56  \n",
      "Comedy        0.000000e+00  \n",
      "Crime        1.505811e-259  \n",
      "Documentary  1.137695e-126  \n",
      "Drama         0.000000e+00  \n",
      "Fantasy       1.587829e-22  \n",
      "FilmNoir      0.000000e+00  \n",
      "Children      0.000000e+00  \n",
      "Horror        0.000000e+00  \n",
      "SciFi         4.904862e-18  \n",
      "Musical      4.256940e-139  \n",
      "Mystery       1.865730e-02  \n",
      "Romance       9.138112e-01  \n",
      "Thriller      2.843068e-17  \n",
      "War           0.000000e+00  \n",
      "Western       8.219282e-57  \n",
      "Residual               NaN  \n"
     ]
    }
   ],
   "source": [
    "#Applying Anova test for various Genres to find out which genres affect the ratings column\n",
    "#H0-Genre does not affect the rating of a particular movie\n",
    "#HA-Genre affects the rating of a particular movie\n",
    "#Using the value of alpha as 5%\n",
    "\n",
    "import statsmodels.api as sm\n",
    "from statsmodels.formula.api import ols\n",
    "\n",
    "model=ols('Ratings~Action+Adventure+Animation+Comedy+Crime+Documentary+Drama+Fantasy+FilmNoir+Children+Horror+SciFi+Musical+Mystery+Romance+Thriller+War+Western',data=Separate_Occupation).fit()\n",
    "q=sm.stats.anova_lm(model)\n",
    "\n",
    "print(q)"
   ]
  },
  {
   "cell_type": "code",
   "execution_count": 38,
   "metadata": {},
   "outputs": [
    {
     "data": {
      "text/plain": [
       "Action          0.00\n",
       "Adventure       0.00\n",
       "Animation       0.00\n",
       "Comedy          0.00\n",
       "Crime           0.00\n",
       "Documentary     0.00\n",
       "Drama           0.00\n",
       "Fantasy         0.00\n",
       "FilmNoir        0.00\n",
       "Children        0.00\n",
       "Horror          0.00\n",
       "SciFi           0.00\n",
       "Musical         0.00\n",
       "Mystery         1.87\n",
       "Romance        91.38\n",
       "Thriller        0.00\n",
       "War             0.00\n",
       "Western         0.00\n",
       "Residual         NaN\n",
       "Name: PR(>F), dtype: float64"
      ]
     },
     "execution_count": 38,
     "metadata": {},
     "output_type": "execute_result"
    }
   ],
   "source": [
    "#Rounding off the PR(>F) value of all the Genres to the tenth digit\n",
    "round(q[\"PR(>F)\"]*100,2)\n"
   ]
  },
  {
   "cell_type": "code",
   "execution_count": 39,
   "metadata": {},
   "outputs": [],
   "source": [
    "#Hence we reject the H0 for all the Genres((<alpha=5%)) except Romance genre(>alpha=5%)"
   ]
  },
  {
   "cell_type": "code",
   "execution_count": 40,
   "metadata": {},
   "outputs": [
    {
     "name": "stdout",
     "output_type": "stream",
     "text": [
      "                            df        sum_sq     mean_sq           F  \\\n",
      "academiceducator           1.0  2.260735e+00    2.260735    1.816423   \n",
      "artist                     1.0  4.236180e+00    4.236180    3.403625   \n",
      "clericaladmin              1.0  1.796158e+02  179.615818  144.315155   \n",
      "collegegradstudent         1.0  2.867059e+02  286.705925  230.358386   \n",
      "customerservice            1.0  5.687393e+01   56.873931   45.696255   \n",
      "doctorhealthcare           1.0  2.052631e+02  205.263126  164.921888   \n",
      "executivemanagerial        1.0  2.684241e+01   26.842415   21.566961   \n",
      "homemaker                  1.0  6.392391e+01   63.923911   51.360672   \n",
      "K12student                 1.0  5.625118e+01   56.251182   45.195898   \n",
      "lawyer                     1.0  2.540891e+01   25.408914   20.415191   \n",
      "programmer                 1.0  3.414096e+02  341.409632  274.310940   \n",
      "retired                    1.0  6.269212e+02  626.921186  503.709691   \n",
      "salesmarketing             1.0  1.612917e+02  161.291674  129.592333   \n",
      "scientist                  1.0  4.292813e+02  429.281267  344.912788   \n",
      "selfemployed               1.0  1.232428e+02  123.242823   99.021385   \n",
      "technicianengineer         1.0  5.113032e+02  511.303187  410.814590   \n",
      "tradesmancraftsman         1.0  2.223133e+00    2.223133    1.786211   \n",
      "unemployed                 1.0  1.673832e+02  167.383153  134.486628   \n",
      "writer                     1.0  6.228113e+01   62.281129   50.040753   \n",
      "Residual             1000189.0  1.244843e+06    1.244608         NaN   \n",
      "\n",
      "                            PR(>F)  \n",
      "academiceducator      1.777400e-01  \n",
      "artist                6.505359e-02  \n",
      "clericaladmin         3.047750e-33  \n",
      "collegegradstudent    5.046545e-52  \n",
      "customerservice       1.381617e-11  \n",
      "doctorhealthcare      9.579908e-38  \n",
      "executivemanagerial   3.417309e-06  \n",
      "homemaker             7.691566e-13  \n",
      "K12student            1.783732e-11  \n",
      "lawyer                6.234014e-06  \n",
      "programmer            1.329266e-61  \n",
      "retired              1.579300e-111  \n",
      "salesmarketing        5.053529e-30  \n",
      "scientist             5.597069e-77  \n",
      "selfemployed          2.504150e-23  \n",
      "technicianengineer    2.542237e-91  \n",
      "tradesmancraftsman    1.813888e-01  \n",
      "unemployed            4.295574e-31  \n",
      "writer                1.506837e-12  \n",
      "Residual                       NaN  \n"
     ]
    }
   ],
   "source": [
    "#Applying Anova test for various Occupations to find out which occupation affect the ratings column\n",
    "#H0-Occupation does not affect the rating of a particular movie\n",
    "#HA-Occupation affects the rating of a particular movie\n",
    "#Using the value of alpha as 5%\n",
    "import statsmodels.api as sm #\n",
    "from statsmodels.formula.api import ols\n",
    "\n",
    "mod=ols('Ratings~academiceducator+artist+clericaladmin+collegegradstudent+customerservice+doctorhealthcare+executivemanagerial+executivemanagerial+homemaker+K12student+lawyer+programmer+retired+salesmarketing+scientist+selfemployed+technicianengineer+tradesmancraftsman+unemployed+writer',data=Separate_Occupation).fit()\n",
    "v=sm.stats.anova_lm(mod)\n",
    "\n",
    "print(v)"
   ]
  },
  {
   "cell_type": "code",
   "execution_count": 41,
   "metadata": {},
   "outputs": [
    {
     "data": {
      "text/plain": [
       "academiceducator       17.77\n",
       "artist                  6.51\n",
       "clericaladmin           0.00\n",
       "collegegradstudent      0.00\n",
       "customerservice         0.00\n",
       "doctorhealthcare        0.00\n",
       "executivemanagerial     0.00\n",
       "homemaker               0.00\n",
       "K12student              0.00\n",
       "lawyer                  0.00\n",
       "programmer              0.00\n",
       "retired                 0.00\n",
       "salesmarketing          0.00\n",
       "scientist               0.00\n",
       "selfemployed            0.00\n",
       "technicianengineer      0.00\n",
       "tradesmancraftsman     18.14\n",
       "unemployed              0.00\n",
       "writer                  0.00\n",
       "Residual                 NaN\n",
       "Name: PR(>F), dtype: float64"
      ]
     },
     "execution_count": 41,
     "metadata": {},
     "output_type": "execute_result"
    }
   ],
   "source": [
    "#Rounding off the PR(>F) value of all the Occupations to the tenth digit\n",
    "round(v[\"PR(>F)\"]*100,2)\n",
    "#Hence we reject the H0 for all the Occupations((<alpha=5%)) except academic educator, artists, tradesmancraftsman(>alpha=5%)"
   ]
  },
  {
   "cell_type": "code",
   "execution_count": 42,
   "metadata": {},
   "outputs": [
    {
     "name": "stdout",
     "output_type": "stream",
     "text": [
      "                 df        sum_sq      mean_sq           F  PR(>F)\n",
      "Age             1.0  4.351796e+03  4351.795847  3499.44655     0.0\n",
      "Residual  1000207.0  1.243824e+06     1.243567         NaN     NaN\n"
     ]
    }
   ],
   "source": [
    "#Applying Anova test for various Ages to find out which age affect the ratings column\n",
    "#H0-Age does not affect the rating of a particular movie\n",
    "#HA-Age affects the rating of a particular movie\n",
    "#Using the value of alpha as 5%\n",
    "m=ols('Ratings~Age',data=Separate_Occupation).fit()\n",
    "\n",
    "age=sm.stats.anova_lm(m)\n",
    "\n",
    "print(age)"
   ]
  },
  {
   "cell_type": "code",
   "execution_count": 43,
   "metadata": {},
   "outputs": [
    {
     "data": {
      "text/plain": [
       "Age         0.0\n",
       "Residual    NaN\n",
       "Name: PR(>F), dtype: float64"
      ]
     },
     "execution_count": 43,
     "metadata": {},
     "output_type": "execute_result"
    }
   ],
   "source": [
    "#Rounding off the PR(>F) value of all the Age column to the tenth digit\n",
    "round(age[\"PR(>F)\"]*100,2)\n",
    "#Hence we reject the H0 for the column age(<alpha=5%)"
   ]
  },
  {
   "cell_type": "code",
   "execution_count": 44,
   "metadata": {},
   "outputs": [
    {
     "data": {
      "text/html": [
       "<div>\n",
       "<style scoped>\n",
       "    .dataframe tbody tr th:only-of-type {\n",
       "        vertical-align: middle;\n",
       "    }\n",
       "\n",
       "    .dataframe tbody tr th {\n",
       "        vertical-align: top;\n",
       "    }\n",
       "\n",
       "    .dataframe thead th {\n",
       "        text-align: right;\n",
       "    }\n",
       "</style>\n",
       "<table border=\"1\" class=\"dataframe\">\n",
       "  <thead>\n",
       "    <tr style=\"text-align: right;\">\n",
       "      <th>Gender</th>\n",
       "      <th>0</th>\n",
       "      <th>1</th>\n",
       "      <th>All</th>\n",
       "    </tr>\n",
       "    <tr>\n",
       "      <th>Ratings</th>\n",
       "      <th></th>\n",
       "      <th></th>\n",
       "      <th></th>\n",
       "    </tr>\n",
       "  </thead>\n",
       "  <tbody>\n",
       "    <tr>\n",
       "      <th>1</th>\n",
       "      <td>13347</td>\n",
       "      <td>42827</td>\n",
       "      <td>56174</td>\n",
       "    </tr>\n",
       "    <tr>\n",
       "      <th>2</th>\n",
       "      <td>24548</td>\n",
       "      <td>83009</td>\n",
       "      <td>107557</td>\n",
       "    </tr>\n",
       "    <tr>\n",
       "      <th>3</th>\n",
       "      <td>62966</td>\n",
       "      <td>198231</td>\n",
       "      <td>261197</td>\n",
       "    </tr>\n",
       "    <tr>\n",
       "      <th>4</th>\n",
       "      <td>87033</td>\n",
       "      <td>261938</td>\n",
       "      <td>348971</td>\n",
       "    </tr>\n",
       "    <tr>\n",
       "      <th>5</th>\n",
       "      <td>58546</td>\n",
       "      <td>167764</td>\n",
       "      <td>226310</td>\n",
       "    </tr>\n",
       "    <tr>\n",
       "      <th>All</th>\n",
       "      <td>246440</td>\n",
       "      <td>753769</td>\n",
       "      <td>1000209</td>\n",
       "    </tr>\n",
       "  </tbody>\n",
       "</table>\n",
       "</div>"
      ],
      "text/plain": [
       "Gender        0       1      All\n",
       "Ratings                         \n",
       "1         13347   42827    56174\n",
       "2         24548   83009   107557\n",
       "3         62966  198231   261197\n",
       "4         87033  261938   348971\n",
       "5         58546  167764   226310\n",
       "All      246440  753769  1000209"
      ]
     },
     "execution_count": 44,
     "metadata": {},
     "output_type": "execute_result"
    }
   ],
   "source": [
    "#Forming a Contingency table to apply chi_square distribution on the Gender column and naming it CT\n",
    "CT=pd.crosstab(Separate_Occupation.Ratings,Separate_Occupation.Gender,margins=True)\n",
    "\n",
    "CT"
   ]
  },
  {
   "cell_type": "code",
   "execution_count": 45,
   "metadata": {},
   "outputs": [
    {
     "name": "stdout",
     "output_type": "stream",
     "text": [
      "1.1742237511517542e-91\n"
     ]
    }
   ],
   "source": [
    "#Importing stats library to calculate the p_value between the gender column and the rating column\n",
    "#H0-Gender does not affect the rating of a particular movie\n",
    "#HA-Gender affects the rating of a particular movie\n",
    "#Using the value of alpha as 5%\n",
    "from scipy import stats\n",
    "\n",
    "chi_square,p_value,degree_of_freedom,expected_frequencies= stats.chi2_contingency(CT)\n",
    "\n",
    "print(p_value)\n",
    "#Hence we reject the H0 for the column gender since p_value is less than 5 %"
   ]
  },
  {
   "cell_type": "code",
   "execution_count": 46,
   "metadata": {},
   "outputs": [],
   "source": [
    "#Multiple Logistic Regression Model"
   ]
  },
  {
   "cell_type": "code",
   "execution_count": 47,
   "metadata": {},
   "outputs": [],
   "source": [
    "#Applying Logistic Regression Model on the columns whose value of alpha was less than 5%\n",
    "feature_cols=['Gender', 'Age', 'Action', 'Adventure',\n",
    "       'Animation', 'Comedy', 'Crime', 'Documentary', 'Drama',\n",
    "       'Fantasy', 'Horror', 'Musical', 'Mystery','SciFi','FilmNoir','Children', 'Thriller', 'War', 'Western',\n",
    "       'clericaladmin', 'collegegradstudent', 'customerservice',\n",
    "       'doctorhealthcare', 'executivemanagerial', 'farmer', 'homemaker',\n",
    "       'K12student', 'lawyer', 'programmer', 'retired', 'salesmarketing',\n",
    "       'scientist', 'selfemployed', 'technicianengineer',\n",
    "       'unemployed', 'writer']\n",
    "\n",
    "\n",
    "X=Separate_Occupation[feature_cols]\n",
    "Y=Separate_Occupation.Ratings\n",
    "\n"
   ]
  },
  {
   "cell_type": "code",
   "execution_count": 48,
   "metadata": {},
   "outputs": [],
   "source": [
    "#Inporting the train_test_split class to split the data into train and test\n",
    "from sklearn.model_selection import train_test_split"
   ]
  },
  {
   "cell_type": "code",
   "execution_count": 49,
   "metadata": {},
   "outputs": [],
   "source": [
    "#Spliting the data into train and test in the ration of 8:2\n",
    "X_train,X_test,Y_train,Y_test=train_test_split(X,Y,test_size=0.2)"
   ]
  },
  {
   "cell_type": "code",
   "execution_count": 160,
   "metadata": {},
   "outputs": [],
   "source": [
    "#importing the Logistic Regression class\n",
    "from sklearn.linear_model import LogisticRegression"
   ]
  },
  {
   "cell_type": "code",
   "execution_count": 161,
   "metadata": {},
   "outputs": [],
   "source": [
    "#Initializing the class Logistic Regression with some specific parameters\n",
    "#Random state=2 ensures that the splits that you generate are reproducible\n",
    "#n_jobs=-1 will help in parallel computation\n",
    "#verbose=2 gives more tree builiding information\n",
    "lor=LogisticRegression(random_state=2,n_jobs=-1,verbose=2)"
   ]
  },
  {
   "cell_type": "code",
   "execution_count": 162,
   "metadata": {},
   "outputs": [
    {
     "name": "stderr",
     "output_type": "stream",
     "text": [
      "[Parallel(n_jobs=-1)]: Using backend LokyBackend with 4 concurrent workers.\n",
      "[Parallel(n_jobs=-1)]: Done   1 out of   1 | elapsed:  2.7min finished\n"
     ]
    },
    {
     "data": {
      "text/plain": [
       "LogisticRegression(n_jobs=-1, random_state=2, verbose=2)"
      ]
     },
     "execution_count": 162,
     "metadata": {},
     "output_type": "execute_result"
    }
   ],
   "source": [
    "#Fitting the logistic regression model on X_train and Y_train\n",
    "lor.fit(X_train,Y_train)"
   ]
  },
  {
   "cell_type": "code",
   "execution_count": 163,
   "metadata": {},
   "outputs": [],
   "source": [
    "#Finding the y predicted value from X_test\n",
    "ypred=lor.predict(X_test)"
   ]
  },
  {
   "cell_type": "code",
   "execution_count": 164,
   "metadata": {},
   "outputs": [
    {
     "data": {
      "text/plain": [
       "0.34976155007448434"
      ]
     },
     "execution_count": 164,
     "metadata": {},
     "output_type": "execute_result"
    }
   ],
   "source": [
    "#Finding the score on the X_test and Y_test\n",
    "lor.score(X_test,Y_test)\n"
   ]
  },
  {
   "cell_type": "code",
   "execution_count": 191,
   "metadata": {},
   "outputs": [
    {
     "data": {
      "text/plain": [
       "array([[    0,     0,  1513,  9562,   209],\n",
       "       [    0,     0,  2000, 19201,   417],\n",
       "       [    0,     0,  3553, 47048,  1525],\n",
       "       [    6,     0,  3488, 63447,  3002],\n",
       "       [    1,     0,  1838, 40265,  2967]], dtype=int64)"
      ]
     },
     "execution_count": 191,
     "metadata": {},
     "output_type": "execute_result"
    }
   ],
   "source": [
    "#Importing confusion_matrix class to form a confusion matrix between Y_test and ypred \n",
    "from sklearn.metrics import confusion_matrix\n",
    "C_m=confusion_matrix(Y_test,ypred)\n",
    "C_m"
   ]
  },
  {
   "cell_type": "code",
   "execution_count": 195,
   "metadata": {},
   "outputs": [],
   "source": [
    "#False positive and False negative values are observed"
   ]
  },
  {
   "cell_type": "code",
   "execution_count": 166,
   "metadata": {},
   "outputs": [],
   "source": [
    "#Importing classification_report class to form a classification_report between Y_test and ypred \n",
    "from sklearn.metrics import classification_report"
   ]
  },
  {
   "cell_type": "code",
   "execution_count": 167,
   "metadata": {},
   "outputs": [
    {
     "name": "stderr",
     "output_type": "stream",
     "text": [
      "C:\\Users\\saksham saxena\\anaconda3\\lib\\site-packages\\sklearn\\metrics\\_classification.py:1221: UndefinedMetricWarning: Precision and F-score are ill-defined and being set to 0.0 in labels with no predicted samples. Use `zero_division` parameter to control this behavior.\n",
      "  _warn_prf(average, modifier, msg_start, len(result))\n"
     ]
    },
    {
     "name": "stdout",
     "output_type": "stream",
     "text": [
      "              precision    recall  f1-score   support\n",
      "\n",
      "           1       0.00      0.00      0.00     11284\n",
      "           2       0.00      0.00      0.00     21618\n",
      "           3       0.29      0.07      0.11     52126\n",
      "           4       0.35      0.91      0.51     69943\n",
      "           5       0.37      0.07      0.11     45071\n",
      "\n",
      "    accuracy                           0.35    200042\n",
      "   macro avg       0.20      0.21      0.15    200042\n",
      "weighted avg       0.28      0.35      0.23    200042\n",
      "\n"
     ]
    }
   ],
   "source": [
    "#Classification_report between Y_test and ypred \n",
    "C_r=classification_report(Y_test,ypred)\n",
    "print(C_r)"
   ]
  },
  {
   "cell_type": "code",
   "execution_count": 168,
   "metadata": {},
   "outputs": [],
   "source": [
    "#Importing the GridSearchCV to manipulate the parameters of the Logistic Regression model\n",
    "from sklearn.model_selection import GridSearchCV"
   ]
  },
  {
   "cell_type": "code",
   "execution_count": 170,
   "metadata": {},
   "outputs": [],
   "source": [
    "#Changing the parameters 'Cost','multi_class', 'solver'\n",
    "#'multi_class':['multinomial']- To accomodate more than 2 classes in the logistic regression model\n",
    "#'solver':['newton-cg']-  Newton methods use an exact Hessian matrix. It's slow for large datasets, because it computes the second derivatives.\n",
    "#scoring='f1_weighted'-It is the harmonic mean between precision and recall,In this case it is being used so as to reduce the False negative and False postive significantly.In weighted F1 we weig the F1-score of each class by the number of samples from that class \n",
    "params=[{'C':np.logspace(-5,5,10),\n",
    "        'multi_class':['multinomial'],\n",
    "        'solver':['newton-cg']}]\n",
    "\n",
    "grid=GridSearchCV(estimator=lor,param_grid=params,scoring='f1_weighted')"
   ]
  },
  {
   "cell_type": "code",
   "execution_count": 171,
   "metadata": {},
   "outputs": [],
   "source": [
    "lor=grid.estimator"
   ]
  },
  {
   "cell_type": "code",
   "execution_count": 172,
   "metadata": {},
   "outputs": [],
   "source": [
    "#Fitting the grid model on the X_train and Y_train"
   ]
  },
  {
   "cell_type": "code",
   "execution_count": 100,
   "metadata": {
    "scrolled": true
   },
   "outputs": [
    {
     "name": "stderr",
     "output_type": "stream",
     "text": [
      "[Parallel(n_jobs=-1)]: Using backend LokyBackend with 4 concurrent workers.\n",
      "[Parallel(n_jobs=-1)]: Done   1 out of   1 | elapsed:  2.1min finished\n",
      "[Parallel(n_jobs=-1)]: Using backend LokyBackend with 4 concurrent workers.\n",
      "[Parallel(n_jobs=-1)]: Done   1 out of   1 | elapsed:  1.0min finished\n",
      "[Parallel(n_jobs=-1)]: Using backend LokyBackend with 4 concurrent workers.\n",
      "[Parallel(n_jobs=-1)]: Done   1 out of   1 | elapsed:   59.6s finished\n",
      "[Parallel(n_jobs=-1)]: Using backend LokyBackend with 4 concurrent workers.\n",
      "[Parallel(n_jobs=-1)]: Done   1 out of   1 | elapsed:  1.1min finished\n",
      "[Parallel(n_jobs=-1)]: Using backend LokyBackend with 4 concurrent workers.\n",
      "[Parallel(n_jobs=-1)]: Done   1 out of   1 | elapsed:  1.1min finished\n",
      "[Parallel(n_jobs=-1)]: Using backend LokyBackend with 4 concurrent workers.\n",
      "[Parallel(n_jobs=-1)]: Done   1 out of   1 | elapsed:  1.6min finished\n",
      "[Parallel(n_jobs=-1)]: Using backend LokyBackend with 4 concurrent workers.\n",
      "[Parallel(n_jobs=-1)]: Done   1 out of   1 | elapsed:  1.4min finished\n",
      "[Parallel(n_jobs=-1)]: Using backend LokyBackend with 4 concurrent workers.\n",
      "[Parallel(n_jobs=-1)]: Done   1 out of   1 | elapsed:  2.2min finished\n",
      "[Parallel(n_jobs=-1)]: Using backend LokyBackend with 4 concurrent workers.\n",
      "[Parallel(n_jobs=-1)]: Done   1 out of   1 | elapsed:  2.4min finished\n",
      "[Parallel(n_jobs=-1)]: Using backend LokyBackend with 4 concurrent workers.\n",
      "[Parallel(n_jobs=-1)]: Done   1 out of   1 | elapsed:  1.5min finished\n",
      "[Parallel(n_jobs=-1)]: Using backend LokyBackend with 4 concurrent workers.\n",
      "[Parallel(n_jobs=-1)]: Done   1 out of   1 | elapsed:  2.4min finished\n",
      "[Parallel(n_jobs=-1)]: Using backend LokyBackend with 4 concurrent workers.\n",
      "[Parallel(n_jobs=-1)]: Done   1 out of   1 | elapsed:  2.5min finished\n",
      "[Parallel(n_jobs=-1)]: Using backend LokyBackend with 4 concurrent workers.\n",
      "[Parallel(n_jobs=-1)]: Done   1 out of   1 | elapsed:  4.7min finished\n",
      "[Parallel(n_jobs=-1)]: Using backend LokyBackend with 4 concurrent workers.\n",
      "[Parallel(n_jobs=-1)]: Done   1 out of   1 | elapsed:  2.5min finished\n",
      "[Parallel(n_jobs=-1)]: Using backend LokyBackend with 4 concurrent workers.\n",
      "[Parallel(n_jobs=-1)]: Done   1 out of   1 | elapsed:  2.6min finished\n",
      "[Parallel(n_jobs=-1)]: Using backend LokyBackend with 4 concurrent workers.\n",
      "[Parallel(n_jobs=-1)]: Done   1 out of   1 | elapsed:  3.9min finished\n",
      "[Parallel(n_jobs=-1)]: Using backend LokyBackend with 4 concurrent workers.\n",
      "[Parallel(n_jobs=-1)]: Done   1 out of   1 | elapsed:  3.5min finished\n",
      "[Parallel(n_jobs=-1)]: Using backend LokyBackend with 4 concurrent workers.\n",
      "[Parallel(n_jobs=-1)]: Done   1 out of   1 | elapsed:  5.2min finished\n",
      "[Parallel(n_jobs=-1)]: Using backend LokyBackend with 4 concurrent workers.\n",
      "[Parallel(n_jobs=-1)]: Done   1 out of   1 | elapsed:  5.2min finished\n",
      "[Parallel(n_jobs=-1)]: Using backend LokyBackend with 4 concurrent workers.\n",
      "[Parallel(n_jobs=-1)]: Done   1 out of   1 | elapsed:  3.3min finished\n",
      "[Parallel(n_jobs=-1)]: Using backend LokyBackend with 4 concurrent workers.\n",
      "[Parallel(n_jobs=-1)]: Done   1 out of   1 | elapsed:  3.1min finished\n",
      "[Parallel(n_jobs=-1)]: Using backend LokyBackend with 4 concurrent workers.\n",
      "[Parallel(n_jobs=-1)]: Done   1 out of   1 | elapsed:  3.0min finished\n",
      "[Parallel(n_jobs=-1)]: Using backend LokyBackend with 4 concurrent workers.\n",
      "[Parallel(n_jobs=-1)]: Done   1 out of   1 | elapsed:  2.9min finished\n",
      "[Parallel(n_jobs=-1)]: Using backend LokyBackend with 4 concurrent workers.\n",
      "[Parallel(n_jobs=-1)]: Done   1 out of   1 | elapsed:  3.7min finished\n",
      "[Parallel(n_jobs=-1)]: Using backend LokyBackend with 4 concurrent workers.\n",
      "[Parallel(n_jobs=-1)]: Done   1 out of   1 | elapsed:  2.8min finished\n",
      "[Parallel(n_jobs=-1)]: Using backend LokyBackend with 4 concurrent workers.\n",
      "[Parallel(n_jobs=-1)]: Done   1 out of   1 | elapsed:  3.0min finished\n",
      "[Parallel(n_jobs=-1)]: Using backend LokyBackend with 4 concurrent workers.\n",
      "[Parallel(n_jobs=-1)]: Done   1 out of   1 | elapsed:  4.3min finished\n",
      "[Parallel(n_jobs=-1)]: Using backend LokyBackend with 4 concurrent workers.\n",
      "[Parallel(n_jobs=-1)]: Done   1 out of   1 | elapsed:  3.1min finished\n",
      "[Parallel(n_jobs=-1)]: Using backend LokyBackend with 4 concurrent workers.\n",
      "[Parallel(n_jobs=-1)]: Done   1 out of   1 | elapsed:  3.1min finished\n",
      "[Parallel(n_jobs=-1)]: Using backend LokyBackend with 4 concurrent workers.\n",
      "[Parallel(n_jobs=-1)]: Done   1 out of   1 | elapsed:  2.9min finished\n",
      "[Parallel(n_jobs=-1)]: Using backend LokyBackend with 4 concurrent workers.\n",
      "[Parallel(n_jobs=-1)]: Done   1 out of   1 | elapsed:  3.2min finished\n",
      "[Parallel(n_jobs=-1)]: Using backend LokyBackend with 4 concurrent workers.\n",
      "[Parallel(n_jobs=-1)]: Done   1 out of   1 | elapsed:  4.2min finished\n",
      "[Parallel(n_jobs=-1)]: Using backend LokyBackend with 4 concurrent workers.\n",
      "[Parallel(n_jobs=-1)]: Done   1 out of   1 | elapsed:  5.3min finished\n",
      "[Parallel(n_jobs=-1)]: Using backend LokyBackend with 4 concurrent workers.\n",
      "[Parallel(n_jobs=-1)]: Done   1 out of   1 | elapsed:  4.5min finished\n",
      "[Parallel(n_jobs=-1)]: Using backend LokyBackend with 4 concurrent workers.\n",
      "[Parallel(n_jobs=-1)]: Done   1 out of   1 | elapsed:  4.5min finished\n",
      "[Parallel(n_jobs=-1)]: Using backend LokyBackend with 4 concurrent workers.\n",
      "[Parallel(n_jobs=-1)]: Done   1 out of   1 | elapsed:  3.2min finished\n",
      "[Parallel(n_jobs=-1)]: Using backend LokyBackend with 4 concurrent workers.\n",
      "[Parallel(n_jobs=-1)]: Done   1 out of   1 | elapsed:  3.2min finished\n",
      "[Parallel(n_jobs=-1)]: Using backend LokyBackend with 4 concurrent workers.\n",
      "[Parallel(n_jobs=-1)]: Done   1 out of   1 | elapsed:  3.4min finished\n",
      "[Parallel(n_jobs=-1)]: Using backend LokyBackend with 4 concurrent workers.\n",
      "[Parallel(n_jobs=-1)]: Done   1 out of   1 | elapsed:  4.1min finished\n",
      "[Parallel(n_jobs=-1)]: Using backend LokyBackend with 4 concurrent workers.\n",
      "[Parallel(n_jobs=-1)]: Done   1 out of   1 | elapsed:  3.3min finished\n",
      "[Parallel(n_jobs=-1)]: Using backend LokyBackend with 4 concurrent workers.\n",
      "[Parallel(n_jobs=-1)]: Done   1 out of   1 | elapsed:  3.3min finished\n",
      "[Parallel(n_jobs=-1)]: Using backend LokyBackend with 4 concurrent workers.\n",
      "[Parallel(n_jobs=-1)]: Done   1 out of   1 | elapsed:  3.6min finished\n",
      "[Parallel(n_jobs=-1)]: Using backend LokyBackend with 4 concurrent workers.\n",
      "[Parallel(n_jobs=-1)]: Done   1 out of   1 | elapsed:  3.4min finished\n",
      "[Parallel(n_jobs=-1)]: Using backend LokyBackend with 4 concurrent workers.\n",
      "[Parallel(n_jobs=-1)]: Done   1 out of   1 | elapsed:  6.0min finished\n",
      "[Parallel(n_jobs=-1)]: Using backend LokyBackend with 4 concurrent workers.\n",
      "[Parallel(n_jobs=-1)]: Done   1 out of   1 | elapsed:  6.1min finished\n",
      "[Parallel(n_jobs=-1)]: Using backend LokyBackend with 4 concurrent workers.\n",
      "[Parallel(n_jobs=-1)]: Done   1 out of   1 | elapsed:  6.1min finished\n",
      "[Parallel(n_jobs=-1)]: Using backend LokyBackend with 4 concurrent workers.\n",
      "[Parallel(n_jobs=-1)]: Done   1 out of   1 | elapsed:  5.8min finished\n",
      "[Parallel(n_jobs=-1)]: Using backend LokyBackend with 4 concurrent workers.\n",
      "[Parallel(n_jobs=-1)]: Done   1 out of   1 | elapsed:  5.4min finished\n",
      "[Parallel(n_jobs=-1)]: Using backend LokyBackend with 4 concurrent workers.\n",
      "[Parallel(n_jobs=-1)]: Done   1 out of   1 | elapsed:  8.8min finished\n",
      "[Parallel(n_jobs=-1)]: Using backend LokyBackend with 4 concurrent workers.\n",
      "[Parallel(n_jobs=-1)]: Done   1 out of   1 | elapsed:  5.4min finished\n",
      "[Parallel(n_jobs=-1)]: Using backend LokyBackend with 4 concurrent workers.\n",
      "[Parallel(n_jobs=-1)]: Done   1 out of   1 | elapsed:  6.6min finished\n"
     ]
    },
    {
     "data": {
      "text/plain": [
       "GridSearchCV(estimator=LogisticRegression(n_jobs=-1, random_state=2, verbose=2),\n",
       "             param_grid=[{'C': array([1.00000000e-05, 1.29154967e-04, 1.66810054e-03, 2.15443469e-02,\n",
       "       2.78255940e-01, 3.59381366e+00, 4.64158883e+01, 5.99484250e+02,\n",
       "       7.74263683e+03, 1.00000000e+05]),\n",
       "                          'multi_class': ['multinomial'],\n",
       "                          'solver': ['newton-cg']}],\n",
       "             scoring='f1_weighted')"
      ]
     },
     "execution_count": 100,
     "metadata": {},
     "output_type": "execute_result"
    }
   ],
   "source": [
    "grid.fit(X_train,Y_train)"
   ]
  },
  {
   "cell_type": "code",
   "execution_count": 190,
   "metadata": {},
   "outputs": [],
   "source": [
    "#Calculating the score of the grid model on X_test and Y_test\n",
    "#Grid score comes out to be low as we have used f1_weighted scoring to reduce the False negative and False positive values"
   ]
  },
  {
   "cell_type": "code",
   "execution_count": 103,
   "metadata": {},
   "outputs": [
    {
     "data": {
      "text/plain": [
       "0.23125933850452632"
      ]
     },
     "execution_count": 103,
     "metadata": {},
     "output_type": "execute_result"
    }
   ],
   "source": [
    "grid.score(X_test,Y_test)"
   ]
  },
  {
   "cell_type": "code",
   "execution_count": null,
   "metadata": {},
   "outputs": [],
   "source": [
    "#Finding out the best parameters of the grid model"
   ]
  },
  {
   "cell_type": "code",
   "execution_count": 102,
   "metadata": {},
   "outputs": [
    {
     "data": {
      "text/plain": [
       "{'C': 3.593813663804626, 'multi_class': 'multinomial', 'solver': 'newton-cg'}"
      ]
     },
     "execution_count": 102,
     "metadata": {},
     "output_type": "execute_result"
    }
   ],
   "source": [
    "grid.best_params_"
   ]
  },
  {
   "cell_type": "code",
   "execution_count": null,
   "metadata": {},
   "outputs": [],
   "source": []
  },
  {
   "cell_type": "code",
   "execution_count": null,
   "metadata": {},
   "outputs": [],
   "source": []
  },
  {
   "cell_type": "code",
   "execution_count": null,
   "metadata": {},
   "outputs": [],
   "source": []
  },
  {
   "cell_type": "markdown",
   "metadata": {},
   "source": [
    "##KnearestNeighbor"
   ]
  },
  {
   "cell_type": "code",
   "execution_count": 50,
   "metadata": {},
   "outputs": [],
   "source": [
    "from sklearn.neighbors import KNeighborsClassifier"
   ]
  },
  {
   "cell_type": "code",
   "execution_count": 51,
   "metadata": {},
   "outputs": [],
   "source": [
    "Knc=KNeighborsClassifier(n_neighbors=6)"
   ]
  },
  {
   "cell_type": "code",
   "execution_count": 52,
   "metadata": {},
   "outputs": [
    {
     "data": {
      "text/plain": [
       "KNeighborsClassifier(n_neighbors=6)"
      ]
     },
     "execution_count": 52,
     "metadata": {},
     "output_type": "execute_result"
    }
   ],
   "source": [
    "Knc.fit(X_train,Y_train)"
   ]
  },
  {
   "cell_type": "code",
   "execution_count": 54,
   "metadata": {},
   "outputs": [],
   "source": [
    "ypred=Knc.predict(X_test)"
   ]
  },
  {
   "cell_type": "code",
   "execution_count": 55,
   "metadata": {},
   "outputs": [],
   "source": [
    "from sklearn.metrics import accuracy_score"
   ]
  },
  {
   "cell_type": "code",
   "execution_count": 56,
   "metadata": {},
   "outputs": [
    {
     "data": {
      "text/plain": [
       "0.30095679907219486"
      ]
     },
     "execution_count": 56,
     "metadata": {},
     "output_type": "execute_result"
    }
   ],
   "source": [
    "accuracy_score(Y_test,ypred)"
   ]
  },
  {
   "cell_type": "code",
   "execution_count": 57,
   "metadata": {},
   "outputs": [],
   "source": [
    "from sklearn.metrics import classification_report"
   ]
  },
  {
   "cell_type": "code",
   "execution_count": 59,
   "metadata": {},
   "outputs": [
    {
     "name": "stdout",
     "output_type": "stream",
     "text": [
      "              precision    recall  f1-score   support\n",
      "\n",
      "           1       0.14      0.11      0.12     11370\n",
      "           2       0.14      0.12      0.13     21613\n",
      "           3       0.28      0.34      0.31     52198\n",
      "           4       0.36      0.43      0.39     69610\n",
      "           5       0.31      0.19      0.24     45251\n",
      "\n",
      "    accuracy                           0.30    200042\n",
      "   macro avg       0.25      0.24      0.24    200042\n",
      "weighted avg       0.29      0.30      0.29    200042\n",
      "\n"
     ]
    }
   ],
   "source": [
    "print(classification_report(Y_test,ypred))"
   ]
  },
  {
   "cell_type": "code",
   "execution_count": 60,
   "metadata": {},
   "outputs": [],
   "source": [
    "from sklearn.model_selection import cross_val_score"
   ]
  },
  {
   "cell_type": "code",
   "execution_count": null,
   "metadata": {},
   "outputs": [],
   "source": [
    "cross_val_score(Knc,X,Y,cv=10,scoring='accuracy').mean()"
   ]
  },
  {
   "cell_type": "code",
   "execution_count": null,
   "metadata": {},
   "outputs": [],
   "source": []
  }
 ],
 "metadata": {
  "kernelspec": {
   "display_name": "Python 3",
   "language": "python",
   "name": "python3"
  },
  "language_info": {
   "codemirror_mode": {
    "name": "ipython",
    "version": 3
   },
   "file_extension": ".py",
   "mimetype": "text/x-python",
   "name": "python",
   "nbconvert_exporter": "python",
   "pygments_lexer": "ipython3",
   "version": "3.8.3"
  }
 },
 "nbformat": 4,
 "nbformat_minor": 2
}
